{
 "cells": [
  {
   "cell_type": "markdown",
   "metadata": {},
   "source": [
    "3. To check the given number is odd or even"
   ]
  },
  {
   "cell_type": "code",
   "execution_count": 2,
   "metadata": {},
   "outputs": [],
   "source": [
    "def isOdd(x) :\n",
    "    return x%2"
   ]
  },
  {
   "cell_type": "code",
   "execution_count": 3,
   "metadata": {},
   "outputs": [
    {
     "name": "stdout",
     "output_type": "stream",
     "text": [
      "Please choose what you would like to do\n",
      "1 - Find whether even or odd\n",
      "0 - Exit the program\n",
      "It is an even number\n",
      "Please choose what you would like to do\n",
      "1 - Find whether even or odd\n",
      "0 - Exit the program\n",
      "It is an odd number\n",
      "Please choose what you would like to do\n",
      "1 - Find whether even or odd\n",
      "0 - Exit the program\n"
     ]
    }
   ],
   "source": [
    "while (True) :\n",
    "    print(\"Please choose what you would like to do\")\n",
    "    print(\"1 - Find whether even or odd\")\n",
    "    print(\"0 - Exit the program\")\n",
    "    try :\n",
    "        choice = int(input(\"Enter your choice: \"))\n",
    "    except :\n",
    "        print(\"Invalid input, try again!\")\n",
    "    if (choice == 1) :\n",
    "        try :\n",
    "            x = int(input(\"Enter the number: \"))\n",
    "        except :\n",
    "            print(\"Invalid input, try again!\")\n",
    "        if (isOdd(x)) :\n",
    "            print(\"It is an odd number\")\n",
    "        else :\n",
    "            print(\"It is an even number\")\n",
    "    elif (choice == 0) :\n",
    "        print(\"Exiting the program...\")\n",
    "        break\n",
    "    else :\n",
    "        print(\"Invalid input, try again!\")"
   ]
  },
  {
   "cell_type": "code",
   "execution_count": null,
   "metadata": {},
   "outputs": [],
   "source": []
  }
 ],
 "metadata": {
  "kernelspec": {
   "display_name": "Python 3",
   "language": "python",
   "name": "python3"
  },
  "language_info": {
   "codemirror_mode": {
    "name": "ipython",
    "version": 3
   },
   "file_extension": ".py",
   "mimetype": "text/x-python",
   "name": "python",
   "nbconvert_exporter": "python",
   "pygments_lexer": "ipython3",
   "version": "3.10.6"
  },
  "orig_nbformat": 4
 },
 "nbformat": 4,
 "nbformat_minor": 2
}
