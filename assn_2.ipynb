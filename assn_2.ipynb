{
 "cells": [
  {
   "cell_type": "markdown",
   "metadata": {},
   "source": [
    "2. To check the given integer is prime or not "
   ]
  },
  {
   "cell_type": "code",
   "execution_count": 6,
   "metadata": {},
   "outputs": [],
   "source": [
    "def isPrime(x) :\n",
    "    if (x <= 1) :\n",
    "        return False\n",
    "    for i in range(2, int(x**(0.5))) :\n",
    "        if (x%i == 0) :\n",
    "            return False\n",
    "    return True"
   ]
  },
  {
   "cell_type": "code",
   "execution_count": 7,
   "metadata": {},
   "outputs": [
    {
     "name": "stdout",
     "output_type": "stream",
     "text": [
      "Please choose what you would like to do\n",
      "1 - Find prime number\n",
      "0 - Exit the program\n",
      "It is a prime number\n",
      "Please choose what you would like to do\n",
      "1 - Find prime number\n",
      "0 - Exit the program\n",
      "It is a prime number\n",
      "Please choose what you would like to do\n",
      "1 - Find prime number\n",
      "0 - Exit the program\n"
     ]
    }
   ],
   "source": [
    "while (True) :\n",
    "    print(\"Please choose what you would like to do\")\n",
    "    print(\"1 - Find prime number\")\n",
    "    print(\"0 - Exit the program\")\n",
    "    try :\n",
    "        choice = int(input(\"Enter your choice: \"))\n",
    "    except :\n",
    "        print(\"Invalid input, try again!\")\n",
    "    if (choice == 1) :\n",
    "        try :\n",
    "            x = int(input(\"Enter the number: \"))\n",
    "            if (x <= 0) :\n",
    "                print(\"Number cannot be less than equal to 0, please try again!\")\n",
    "        except :\n",
    "            print(\"Invalid input, try again!\")\n",
    "        if (x == 1) :\n",
    "            print(\"1 is neither prime nor composite!\")\n",
    "            break\n",
    "        if (isPrime(x)) :\n",
    "            print(\"It is a prime number\")\n",
    "        else :\n",
    "            print(\"It is NOT a prime number\")\n",
    "    elif (choice == 0) :\n",
    "        print(\"Exiting the program...\")\n",
    "        break\n",
    "    else :\n",
    "        print(\"Invalid input, try again!\")"
   ]
  }
 ],
 "metadata": {
  "kernelspec": {
   "display_name": "Python 3",
   "language": "python",
   "name": "python3"
  },
  "language_info": {
   "codemirror_mode": {
    "name": "ipython",
    "version": 3
   },
   "file_extension": ".py",
   "mimetype": "text/x-python",
   "name": "python",
   "nbconvert_exporter": "python",
   "pygments_lexer": "ipython3",
   "version": "3.10.6"
  },
  "orig_nbformat": 4
 },
 "nbformat": 4,
 "nbformat_minor": 2
}
