{
 "cells": [
  {
   "cell_type": "markdown",
   "metadata": {},
   "source": [
    "7. Find the largest of 3 numbers"
   ]
  },
  {
   "cell_type": "code",
   "execution_count": 1,
   "metadata": {},
   "outputs": [],
   "source": [
    "# Utility function\n",
    "def maxim(a, b, c) :\n",
    "    if (a > b) :\n",
    "        if (a > c) :\n",
    "            return a\n",
    "        return c\n",
    "    else :\n",
    "        if (b > c) :\n",
    "            return b\n",
    "        return c"
   ]
  },
  {
   "cell_type": "code",
   "execution_count": 2,
   "metadata": {},
   "outputs": [
    {
     "name": "stdout",
     "output_type": "stream",
     "text": [
      "Would you like to calculate the maximum?\n",
      "1 - Yes\n",
      "0 - No, quit the program\n",
      "The maximum of 6.0, 2.0, 6.0 is: 6.0\n",
      "Would you like to calculate the maximum?\n",
      "1 - Yes\n",
      "0 - No, quit the program\n",
      "Invalid input, please try again!\n",
      "Would you like to calculate the maximum?\n",
      "1 - Yes\n",
      "0 - No, quit the program\n",
      "Exiting the program...\n"
     ]
    }
   ],
   "source": [
    "# Main program\n",
    "while True :\n",
    "    print(\"Would you like to calculate the maximum?\")\n",
    "    print(\"1 - Yes\")\n",
    "    print(\"0 - No, quit the program\")\n",
    "    try :\n",
    "        choice = int(input(\"Enter your choice: \"))\n",
    "    except :\n",
    "        print(\"Invalid input, please try again!\")\n",
    "    if (choice == 0) :\n",
    "        print(\"Exiting the program...\")\n",
    "        break\n",
    "    elif (choice == 1) :\n",
    "        try :\n",
    "            a = float(input(\"Enter first number: \"))\n",
    "            b = float(input(\"Enter second number: \"))\n",
    "            c = float(input(\"Enter third number: \"))\n",
    "        except :\n",
    "            print(\"Invalid input, please try again!\")\n",
    "            continue\n",
    "        print(f\"The maximum of {a}, {b}, {c} is: {maxim(a, b, c)}\")"
   ]
  },
  {
   "cell_type": "code",
   "execution_count": null,
   "metadata": {},
   "outputs": [],
   "source": []
  }
 ],
 "metadata": {
  "kernelspec": {
   "display_name": "Python 3",
   "language": "python",
   "name": "python3"
  },
  "language_info": {
   "codemirror_mode": {
    "name": "ipython",
    "version": 3
   },
   "file_extension": ".py",
   "mimetype": "text/x-python",
   "name": "python",
   "nbconvert_exporter": "python",
   "pygments_lexer": "ipython3",
   "version": "3.10.6"
  },
  "orig_nbformat": 4
 },
 "nbformat": 4,
 "nbformat_minor": 2
}
