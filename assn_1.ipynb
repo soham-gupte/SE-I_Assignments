{
 "cells": [
  {
   "cell_type": "markdown",
   "metadata": {},
   "source": [
    "1. To find profit or loss given the cost price and the selling price "
   ]
  },
  {
   "cell_type": "code",
   "execution_count": 4,
   "metadata": {},
   "outputs": [],
   "source": [
    "# Defining the Profit or Loss function :\n",
    "\n",
    "def profit_or_loss(cp, sp) :\n",
    "    result = sp - cp\n",
    "    if (result >= 0) :\n",
    "        print(f\"Net profit of Rs. {result}\")\n",
    "    else :\n",
    "        print(f\"Net loss of Rs. {-result}\")"
   ]
  },
  {
   "cell_type": "code",
   "execution_count": 5,
   "metadata": {},
   "outputs": [],
   "source": [
    "# Defining the profit or loss %age :\n",
    "\n",
    "def percent_lp(cp, sp) :\n",
    "    result = sp - cp\n",
    "    try :\n",
    "        result = (result/cp)*100\n",
    "    except :\n",
    "        print(\"Error: C.P. amounts to 0 -> profit/loss percent cannot be calculated!\")\n",
    "        return\n",
    "    if (result >= 0) :\n",
    "        print(f\"Profit percentage = {result}%\")\n",
    "    else :\n",
    "        result = -result\n",
    "        print(f\"Loss percentage = {result}%\")"
   ]
  },
  {
   "cell_type": "code",
   "execution_count": 6,
   "metadata": {},
   "outputs": [
    {
     "name": "stdout",
     "output_type": "stream",
     "text": [
      "Would you like to enter the values?\n",
      "Yes - 1\n",
      "No - 0\n",
      "What would you like to calculate? Enter the suitable options\n",
      "1 - Profit or Loss value\n",
      "2 - Profit or Loss percentage\n",
      "0 - Nothing, I would like to exit\n",
      "Error: C.P. amounts to 0 -> profit/loss percent cannot be calculated!\n",
      "What would you like to calculate? Enter the suitable options\n",
      "1 - Profit or Loss value\n",
      "2 - Profit or Loss percentage\n",
      "0 - Nothing, I would like to exit\n",
      "Exiting...\n",
      "Would you like to enter the values?\n",
      "Yes - 1\n",
      "No - 0\n"
     ]
    }
   ],
   "source": [
    "# Main program\n",
    "\n",
    "choice = 1\n",
    "\n",
    "while (choice) :\n",
    "    print(\"Would you like to enter the values?\\nYes - 1\\nNo - 0\")\n",
    "    try :\n",
    "        choice = int(input(\"Enter your choice : \"))\n",
    "    except :\n",
    "        print(\"Invalid input, please try again\\n\")\n",
    "    if (choice == 0) :\n",
    "        print(\"Bye\")\n",
    "        break\n",
    "    elif (choice != 1) :\n",
    "        print(\"Invalid input, please try again\\n\")\n",
    "        continue\n",
    "    else :\n",
    "        try :\n",
    "            cp = int(input(\"Enter the Cost Price : \"))\n",
    "            sp = int(input(\"Enter the Selling Price : \"))\n",
    "        except :\n",
    "            print(\"Invalid inputs for C.P. or S.P. , please try again!\")\n",
    "        choose = 1\n",
    "        while (choose) :\n",
    "            print(\"What would you like to calculate? Enter the suitable options\")\n",
    "            print(\"1 - Profit or Loss value\\n2 - Profit or Loss percentage\\n0 - Nothing, I would like to exit\")\n",
    "            try :\n",
    "                choose = int(input(\"Enter your choice : \"))\n",
    "            except :\n",
    "                print(\"Invalid input, try again!\")\n",
    "            if (choose == 0) :\n",
    "                print(\"Exiting...\")\n",
    "                break\n",
    "            elif (choose == 1) :\n",
    "                profit_or_loss(cp, sp)\n",
    "            elif (choose == 2) :\n",
    "                percent_lp(cp, sp)\n",
    "            else :\n",
    "                print(\"Invalid input, try again!\")\n",
    "            "
   ]
  },
  {
   "cell_type": "code",
   "execution_count": null,
   "metadata": {},
   "outputs": [],
   "source": []
  }
 ],
 "metadata": {
  "kernelspec": {
   "display_name": "Python 3",
   "language": "python",
   "name": "python3"
  },
  "language_info": {
   "codemirror_mode": {
    "name": "ipython",
    "version": 3
   },
   "file_extension": ".py",
   "mimetype": "text/x-python",
   "name": "python",
   "nbconvert_exporter": "python",
   "pygments_lexer": "ipython3",
   "version": "3.10.6"
  },
  "orig_nbformat": 4
 },
 "nbformat": 4,
 "nbformat_minor": 2
}
