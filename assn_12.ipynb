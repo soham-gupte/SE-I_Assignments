{
 "cells": [
  {
   "cell_type": "markdown",
   "metadata": {},
   "source": [
    "12. To check and display 10 leap years from year 2000"
   ]
  },
  {
   "cell_type": "code",
   "execution_count": 1,
   "metadata": {},
   "outputs": [
    {
     "name": "stdout",
     "output_type": "stream",
     "text": [
      "2000 is a leap year\n",
      "2001 is NOT a leap year\n",
      "2002 is NOT a leap year\n",
      "2003 is NOT a leap year\n",
      "2004 is a leap year\n",
      "2005 is NOT a leap year\n",
      "2006 is NOT a leap year\n",
      "2007 is NOT a leap year\n",
      "2008 is a leap year\n",
      "2009 is NOT a leap year\n",
      "2010 is NOT a leap year\n",
      "2011 is NOT a leap year\n",
      "2012 is a leap year\n",
      "2013 is NOT a leap year\n",
      "2014 is NOT a leap year\n",
      "2015 is NOT a leap year\n",
      "2016 is a leap year\n",
      "2017 is NOT a leap year\n",
      "2018 is NOT a leap year\n",
      "2019 is NOT a leap year\n",
      "2020 is a leap year\n",
      "2021 is NOT a leap year\n",
      "2022 is NOT a leap year\n",
      "2023 is NOT a leap year\n",
      "2024 is a leap year\n",
      "2025 is NOT a leap year\n",
      "2026 is NOT a leap year\n",
      "2027 is NOT a leap year\n",
      "2028 is a leap year\n",
      "2029 is NOT a leap year\n",
      "2030 is NOT a leap year\n",
      "2031 is NOT a leap year\n",
      "2032 is a leap year\n",
      "2033 is NOT a leap year\n",
      "2034 is NOT a leap year\n",
      "2035 is NOT a leap year\n",
      "2036 is a leap year\n"
     ]
    }
   ],
   "source": [
    "# Initializing number of leap years to 0\n",
    "count = 0 \n",
    "\n",
    "# Start year is 2000\n",
    "start = 2000\n",
    "\n",
    "while (count < 10) :\n",
    "    if (start%4 == 0) :\n",
    "        print(f\"{start} is a leap year\")\n",
    "        count += 1\n",
    "    else :\n",
    "        print(f\"{start} is NOT a leap year\")\n",
    "    start += 1    "
   ]
  },
  {
   "cell_type": "code",
   "execution_count": null,
   "metadata": {},
   "outputs": [],
   "source": []
  }
 ],
 "metadata": {
  "kernelspec": {
   "display_name": "Python 3",
   "language": "python",
   "name": "python3"
  },
  "language_info": {
   "codemirror_mode": {
    "name": "ipython",
    "version": 3
   },
   "file_extension": ".py",
   "mimetype": "text/x-python",
   "name": "python",
   "nbconvert_exporter": "python",
   "pygments_lexer": "ipython3",
   "version": "3.10.6"
  },
  "orig_nbformat": 4
 },
 "nbformat": 4,
 "nbformat_minor": 2
}
