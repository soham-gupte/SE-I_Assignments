{
 "cells": [
  {
   "cell_type": "markdown",
   "metadata": {},
   "source": [
    "14. To find the factorial of a number"
   ]
  },
  {
   "cell_type": "code",
   "execution_count": 1,
   "metadata": {},
   "outputs": [],
   "source": [
    "# Recursive fucntion for factorial\n",
    "def fact(n) :\n",
    "    if (n <= 1) :\n",
    "        return 1\n",
    "    return n*fact(n-1)"
   ]
  },
  {
   "cell_type": "code",
   "execution_count": 2,
   "metadata": {},
   "outputs": [
    {
     "name": "stdout",
     "output_type": "stream",
     "text": [
      "Would you like to calculate factorial?\n",
      "1 - Yes\n",
      "0 - No, I would like to exit the program\n",
      "The factorial of 6 is: 720\n",
      "Would you like to calculate factorial?\n",
      "1 - Yes\n",
      "0 - No, I would like to exit the program\n",
      "Exiting the program...\n"
     ]
    }
   ],
   "source": [
    "# Main program\n",
    "\n",
    "while True :\n",
    "    print(\"Would you like to calculate factorial?\")\n",
    "    print(\"1 - Yes\")\n",
    "    print(\"0 - No, I would like to exit the program\")\n",
    "    try :\n",
    "        choice = int(input(\"Enter your choice: \"))\n",
    "        if (choice < 0) :\n",
    "            print(\"Cannot find factorial of a negative number!\")\n",
    "            continue\n",
    "    except :\n",
    "        print(\"Invalid input, please try again!\")\n",
    "        continue\n",
    "    if (choice == 0) :\n",
    "        print(\"Exiting the program...\")\n",
    "        break\n",
    "    elif (choice == 1) :\n",
    "        try : \n",
    "            n = int(input(\"Enter a number to find factorial of: \"))\n",
    "        except :\n",
    "            print(\"Invalid input, please try again!\")\n",
    "        print(f\"The factorial of {n} is: {fact(n)}\")\n",
    "    else :\n",
    "        print(\"Invalid input, please try again!\")"
   ]
  },
  {
   "cell_type": "code",
   "execution_count": null,
   "metadata": {},
   "outputs": [],
   "source": []
  }
 ],
 "metadata": {
  "kernelspec": {
   "display_name": "Python 3",
   "language": "python",
   "name": "python3"
  },
  "language_info": {
   "codemirror_mode": {
    "name": "ipython",
    "version": 3
   },
   "file_extension": ".py",
   "mimetype": "text/x-python",
   "name": "python",
   "nbconvert_exporter": "python",
   "pygments_lexer": "ipython3",
   "version": "3.10.6"
  },
  "orig_nbformat": 4
 },
 "nbformat": 4,
 "nbformat_minor": 2
}
