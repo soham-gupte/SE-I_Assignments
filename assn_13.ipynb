{
 "cells": [
  {
   "cell_type": "markdown",
   "metadata": {},
   "source": [
    "13. To check the given string is palindrome or not"
   ]
  },
  {
   "cell_type": "code",
   "execution_count": 3,
   "metadata": {},
   "outputs": [],
   "source": [
    "# Palindrome fucntion\n",
    "def isPali(s) :\n",
    "    n = len(s)\n",
    "    for i in range(int(n/2)) :\n",
    "        if (s[i] != s[n-i-1]) :\n",
    "            return False\n",
    "    return True"
   ]
  },
  {
   "cell_type": "code",
   "execution_count": 4,
   "metadata": {},
   "outputs": [
    {
     "name": "stdout",
     "output_type": "stream",
     "text": [
      "Would you like to know whether the string is a palindrome?\n",
      "1 - Yes\n",
      "No, I would like to quit\n",
      "It is a palindrome!\n",
      "Would you like to know whether the string is a palindrome?\n",
      "1 - Yes\n",
      "No, I would like to quit\n",
      "It is NOT a palindrome!\n",
      "Would you like to know whether the string is a palindrome?\n",
      "1 - Yes\n",
      "No, I would like to quit\n",
      "Program exiting...\n"
     ]
    }
   ],
   "source": [
    "# Main program\n",
    "\n",
    "while True :\n",
    "    print(\"Would you like to know whether the string is a palindrome?\")\n",
    "    print(\"1 - Yes\")\n",
    "    print(\"0 - No, I would like to quit\")\n",
    "    try :\n",
    "        choice = int(input(\"Enter your choice: \"))\n",
    "    except :\n",
    "        print(\"Invalid input, please try again\")\n",
    "        continue\n",
    "    if (choice == 0) :\n",
    "        print(\"Program exiting...\")\n",
    "        break\n",
    "    elif (choice == 1) :\n",
    "        s = input(\"Enter a string: \")\n",
    "        if (isPali(s)) :\n",
    "            print(\"It is a palindrome!\")\n",
    "        else :\n",
    "            print(\"It is NOT a palindrome!\")\n",
    "    else :\n",
    "        print(\"Invalid input, please try again\")"
   ]
  },
  {
   "cell_type": "code",
   "execution_count": null,
   "metadata": {},
   "outputs": [],
   "source": []
  }
 ],
 "metadata": {
  "kernelspec": {
   "display_name": "Python 3",
   "language": "python",
   "name": "python3"
  },
  "language_info": {
   "codemirror_mode": {
    "name": "ipython",
    "version": 3
   },
   "file_extension": ".py",
   "mimetype": "text/x-python",
   "name": "python",
   "nbconvert_exporter": "python",
   "pygments_lexer": "ipython3",
   "version": "3.10.6"
  },
  "orig_nbformat": 4
 },
 "nbformat": 4,
 "nbformat_minor": 2
}
