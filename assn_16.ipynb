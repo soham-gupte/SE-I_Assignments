{
 "cells": [
  {
   "cell_type": "markdown",
   "metadata": {},
   "source": [
    "16. To print a pyramid of numbers in different formats (numeric, special character) "
   ]
  },
  {
   "cell_type": "code",
   "execution_count": 61,
   "metadata": {},
   "outputs": [],
   "source": [
    "def numeric_pattern(n) :\n",
    "    count = 1 \n",
    "    for i in range(n) :\n",
    "        for j in range(n-i-1) :\n",
    "            print(\"\\t\",end=\"\")\n",
    "        for j in range(2*i+1) :\n",
    "            print(f\"{count}\\t\",end=\"\")\n",
    "            count += 1\n",
    "        print()"
   ]
  },
  {
   "cell_type": "code",
   "execution_count": 62,
   "metadata": {},
   "outputs": [],
   "source": [
    "def star_pattern(n) :\n",
    "    for i in range(n) :\n",
    "        for j in range(n-i-1) :\n",
    "            print(\"\\t\",end=\"\")\n",
    "        for j in range(2*i+1) :\n",
    "            print(f\"*\\t\",end=\"\")\n",
    "        print()"
   ]
  },
  {
   "cell_type": "code",
   "execution_count": 68,
   "metadata": {},
   "outputs": [],
   "source": [
    "def alphabet_pattern(n) :\n",
    "    count = \"A\"\n",
    "    for i in range(n) :\n",
    "        for j in range(n-i-1) :\n",
    "            print(\"\\t\",end=\"\")\n",
    "        for j in range(2*i+1) :\n",
    "            print(f\"{count}\\t\",end=\"\")\n",
    "            count = chr(ord(count) + 1)\n",
    "        print()"
   ]
  },
  {
   "cell_type": "code",
   "execution_count": 72,
   "metadata": {},
   "outputs": [
    {
     "name": "stdout",
     "output_type": "stream",
     "text": [
      "Would you like to execute the program?\n",
      "1 - Yes\n",
      "0 - No, I would like to exit the program\n",
      "Enter the following options for the patterns\n",
      "1 - Star pattern\n",
      "2 - Numeric pattern\n",
      "3 - Letter pattern\n",
      "\t\t\t\t\t*\t\n",
      "\t\t\t\t*\t*\t*\t\n",
      "\t\t\t*\t*\t*\t*\t*\t\n",
      "\t\t*\t*\t*\t*\t*\t*\t*\t\n",
      "\t*\t*\t*\t*\t*\t*\t*\t*\t*\t\n",
      "*\t*\t*\t*\t*\t*\t*\t*\t*\t*\t*\t\n",
      "Would you like to execute the program?\n",
      "1 - Yes\n",
      "0 - No, I would like to exit the program\n",
      "Enter the following options for the patterns\n",
      "1 - Star pattern\n",
      "2 - Numeric pattern\n",
      "3 - Letter pattern\n",
      "\t\t\t\t1\t\n",
      "\t\t\t2\t3\t4\t\n",
      "\t\t5\t6\t7\t8\t9\t\n",
      "\t10\t11\t12\t13\t14\t15\t16\t\n",
      "17\t18\t19\t20\t21\t22\t23\t24\t25\t\n",
      "Would you like to execute the program?\n",
      "1 - Yes\n",
      "0 - No, I would like to exit the program\n",
      "Enter the following options for the patterns\n",
      "1 - Star pattern\n",
      "2 - Numeric pattern\n",
      "3 - Letter pattern\n",
      "Invalid input, try again!\n",
      "Would you like to execute the program?\n",
      "1 - Yes\n",
      "0 - No, I would like to exit the program\n",
      "Enter the following options for the patterns\n",
      "1 - Star pattern\n",
      "2 - Numeric pattern\n",
      "3 - Letter pattern\n",
      "Invalid input, try again!\n",
      "Would you like to execute the program?\n",
      "1 - Yes\n",
      "0 - No, I would like to exit the program\n",
      "Exiting the program...\n"
     ]
    }
   ],
   "source": [
    "while True :\n",
    "    print(\"Would you like to execute the program?\")\n",
    "    print(\"1 - Yes\")\n",
    "    print(\"0 - No, I would like to exit the program\")\n",
    "    try :\n",
    "        choice = int(input(\"Enter your choice: \"))\n",
    "        if (choice < 0) :\n",
    "            print(\"Cannot find factorial of a negative number!\")\n",
    "            continue\n",
    "    except :\n",
    "        print(\"Invalid input, please try again!\")\n",
    "    if (choice == 0) :\n",
    "        print(\"Exiting the program...\")\n",
    "        break\n",
    "    elif (choice == 1) :\n",
    "        try :\n",
    "            print(\"Enter the following options for the patterns\")\n",
    "            print(\"1 - Star pattern\")\n",
    "            print(\"2 - Numeric pattern\")\n",
    "            print(\"3 - Letter pattern\")\n",
    "            \n",
    "            type_pattern = int(input(\"Enter type of pattern: \"))\n",
    "            n = int(input(\"Enter number of rows: \"))\n",
    "            if (n <= 0) :\n",
    "                print(\"Invalid input, try again!\")\n",
    "                continue\n",
    "\n",
    "            if (type_pattern == 1) :\n",
    "                star_pattern(n)\n",
    "            elif (type_pattern == 2) :\n",
    "                numeric_pattern(n)\n",
    "            elif (type_pattern == 3) :\n",
    "                if (n > 5) :\n",
    "                    print(\"Range out of bounds, try again!\")\n",
    "                    continue\n",
    "                alphabet_pattern(n)\n",
    "            else :\n",
    "                print(\"Invalid input, try again!\")\n",
    "        except :\n",
    "            print(\"Invalid input, please try again!\")\n",
    "            \n",
    "    else :\n",
    "        print(\"Invalid input, please try again!\")"
   ]
  },
  {
   "cell_type": "code",
   "execution_count": null,
   "metadata": {},
   "outputs": [],
   "source": []
  }
 ],
 "metadata": {
  "kernelspec": {
   "display_name": "Python 3",
   "language": "python",
   "name": "python3"
  },
  "language_info": {
   "codemirror_mode": {
    "name": "ipython",
    "version": 3
   },
   "file_extension": ".py",
   "mimetype": "text/x-python",
   "name": "python",
   "nbconvert_exporter": "python",
   "pygments_lexer": "ipython3",
   "version": "3.10.6"
  },
  "orig_nbformat": 4
 },
 "nbformat": 4,
 "nbformat_minor": 2
}
