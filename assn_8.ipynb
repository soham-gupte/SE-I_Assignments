{
 "cells": [
  {
   "cell_type": "markdown",
   "metadata": {},
   "source": [
    "8. To display the result a student has scored (same as 5th program)"
   ]
  },
  {
   "cell_type": "code",
   "execution_count": 2,
   "metadata": {},
   "outputs": [],
   "source": [
    "# Utility function\n",
    "\n",
    "def checkdiv(marks) :\n",
    "    if (marks >= 90) :\n",
    "        return \"I\"\n",
    "    elif (marks >= 75) :\n",
    "        return \"II\"\n",
    "    elif (marks >= 45) :\n",
    "        return \"III\"\n",
    "    else :\n",
    "        return -1"
   ]
  },
  {
   "cell_type": "code",
   "execution_count": 3,
   "metadata": {},
   "outputs": [
    {
     "name": "stdout",
     "output_type": "stream",
     "text": [
      "Would you like to continue with the program\n",
      "1 - Yes, I would like to know my grades\n",
      "0 - No, I would like to quit the program\n",
      "Soham:\tSubject 1: Division - III\tSubject 2: Division - II\tSubject 3: Division - I\t\n",
      "Vipul:\t\n",
      "Would you like to continue with the program\n",
      "1 - Yes, I would like to know my grades\n",
      "0 - No, I would like to quit the program\n",
      "Invalid input, plese try again!\n",
      "Would you like to continue with the program\n",
      "1 - Yes, I would like to know my grades\n",
      "0 - No, I would like to quit the program\n",
      "Invalid input, plese try again!\n",
      "Would you like to continue with the program\n",
      "1 - Yes, I would like to know my grades\n",
      "0 - No, I would like to quit the program\n",
      "Invalid input, please try again!\n",
      "Invalid input, plese try again!\n",
      "Would you like to continue with the program\n",
      "1 - Yes, I would like to know my grades\n",
      "0 - No, I would like to quit the program\n",
      "Exiting the program...\n"
     ]
    }
   ],
   "source": [
    "# Main program \n",
    "\n",
    "while True :\n",
    "    print(\"Would you like to continue with the program\")\n",
    "    print(\"1 - Yes, I would like to know my grades\")\n",
    "    print(\"0 - No, I would like to quit the program\")\n",
    "    try :\n",
    "        choice = int(input(\"Enter your choice: \"))\n",
    "    except :\n",
    "        print(\"Invalid input, please try again!\")\n",
    "    if (choice == 0) :\n",
    "        print(\"Exiting the program...\")\n",
    "        break\n",
    "    elif (choice == 1) :\n",
    "        try :\n",
    "            m = int(input(\"Enter number of students: \"))\n",
    "            n = int(input(\"Enter number of subjects: \"))\n",
    "            sum = 0\n",
    "            for j in range(1, m+1) :\n",
    "                i = 1\n",
    "                name = input(f\"Enter name of student {j}: \")\n",
    "                print(f\"{name}:\",end=\"\\t\")\n",
    "                while (i<=n):\n",
    "                    try :\n",
    "                        marks = float(input(f\"Enter marks of subject {i}: \"))\n",
    "                        if (marks < 0 or marks > 100) :\n",
    "                            print(\"Marks are out of bounds! Re-enter.\")\n",
    "                            continue\n",
    "                    except :\n",
    "                        print(\"Re-enter value again!\")\n",
    "                        continue\n",
    "                    ans = checkdiv(marks)\n",
    "                    if (ans == -1) :\n",
    "                        print(\"FAIL!\",end=\"\\t\")\n",
    "                    else :\n",
    "                        print(f\"Subject {i}: Division - {ans}\",end=\"\\t\")\n",
    "                    i += 1\n",
    "                print()\n",
    "        except :\n",
    "            print(\"Invalid input, please try again!\")\n",
    "    else :\n",
    "        print(\"Invalid input, plese try again!\")\n",
    "    "
   ]
  },
  {
   "cell_type": "code",
   "execution_count": null,
   "metadata": {},
   "outputs": [],
   "source": []
  }
 ],
 "metadata": {
  "kernelspec": {
   "display_name": "Python 3",
   "language": "python",
   "name": "python3"
  },
  "language_info": {
   "codemirror_mode": {
    "name": "ipython",
    "version": 3
   },
   "file_extension": ".py",
   "mimetype": "text/x-python",
   "name": "python",
   "nbconvert_exporter": "python",
   "pygments_lexer": "ipython3",
   "version": "3.10.6"
  },
  "orig_nbformat": 4
 },
 "nbformat": 4,
 "nbformat_minor": 2
}
