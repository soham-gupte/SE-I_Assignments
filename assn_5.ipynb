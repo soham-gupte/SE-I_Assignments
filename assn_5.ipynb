{
 "cells": [
  {
   "cell_type": "markdown",
   "metadata": {},
   "source": [
    "5. To take subject marks as input from user and display the result (i-division, ii-division, iii-division, fail)"
   ]
  },
  {
   "cell_type": "code",
   "execution_count": 1,
   "metadata": {},
   "outputs": [],
   "source": [
    "# Utility function\n",
    "\n",
    "def checkdiv(marks) :\n",
    "    if (marks >= 90) :\n",
    "        return \"I\"\n",
    "    elif (marks >= 75) :\n",
    "        return \"II\"\n",
    "    elif (marks >= 45) :\n",
    "        return \"III\"\n",
    "    else :\n",
    "        return -1"
   ]
  },
  {
   "cell_type": "code",
   "execution_count": 2,
   "metadata": {},
   "outputs": [
    {
     "name": "stdout",
     "output_type": "stream",
     "text": [
      "Would you like to continue with the program\n",
      "1 - Yes, I would like to know my grades\n",
      "0 - No, I would like to quit the program\n",
      "FAIL!\n",
      "Marks are out of bounds! Re-enter.\n",
      "Subject 3: Division - II\n",
      "Subject 4: Division - I\n",
      "Would you like to continue with the program\n",
      "1 - Yes, I would like to know my grades\n",
      "0 - No, I would like to quit the program\n",
      "Exiting the program...\n"
     ]
    }
   ],
   "source": [
    "# Main program \n",
    "\n",
    "while True :\n",
    "    print(\"Would you like to continue with the program\")\n",
    "    print(\"1 - Yes, I would like to know my grades\")\n",
    "    print(\"0 - No, I would like to quit the program\")\n",
    "    try :\n",
    "        choice = int(input(\"Enter your choice: \"))\n",
    "    except :\n",
    "        print(\"Invalid input, please try again!\")\n",
    "    if (choice == 0) :\n",
    "        print(\"Exiting the program...\")\n",
    "        break\n",
    "    elif (choice == 1) :\n",
    "        try :\n",
    "            n = int(input(\"Enter number of subjects: \"))\n",
    "            i = 1\n",
    "            sum = 0\n",
    "            while (i<=n):\n",
    "                try :\n",
    "                    marks = float(input(f\"Enter marks of subject {i}: \"))\n",
    "                    if (marks < 0 or marks > 100) :\n",
    "                        print(\"Marks are out of bounds! Re-enter.\")\n",
    "                        continue\n",
    "                except :\n",
    "                    print(\"Re-enter value again!\")\n",
    "                    continue\n",
    "                i += 1\n",
    "                ans = checkdiv(marks)\n",
    "                if (ans == -1) :\n",
    "                    print(\"FAIL!\")\n",
    "                else :\n",
    "                    print(f\"Subject {i}: Division - {ans}\")\n",
    "        except :\n",
    "            print(\"Invalid input, please try again!\")\n",
    "    else :\n",
    "        print(\"Invalid input, plese try again!\")\n",
    "    "
   ]
  },
  {
   "cell_type": "code",
   "execution_count": null,
   "metadata": {},
   "outputs": [],
   "source": []
  }
 ],
 "metadata": {
  "kernelspec": {
   "display_name": "Python 3",
   "language": "python",
   "name": "python3"
  },
  "language_info": {
   "codemirror_mode": {
    "name": "ipython",
    "version": 3
   },
   "file_extension": ".py",
   "mimetype": "text/x-python",
   "name": "python",
   "nbconvert_exporter": "python",
   "pygments_lexer": "ipython3",
   "version": "3.10.6"
  },
  "orig_nbformat": 4
 },
 "nbformat": 4,
 "nbformat_minor": 2
}
