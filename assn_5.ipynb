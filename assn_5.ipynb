{
 "cells": [
  {
   "cell_type": "markdown",
   "metadata": {},
   "source": [
    "5. To take subject marks as input from user and display the result (i-division, ii-division, iii-division, fail)"
   ]
  },
  {
   "cell_type": "code",
   "execution_count": 3,
   "metadata": {},
   "outputs": [],
   "source": [
    "# Utility function\n",
    "\n",
    "def checkdiv(marks) :\n",
    "    if (marks >= 90) :\n",
    "        return \"I\"\n",
    "    elif (marks >= 75) :\n",
    "        return \"II\"\n",
    "    elif (marks >= 45) :\n",
    "        return \"III\"\n",
    "    else :\n",
    "        return -1"
   ]
  },
  {
   "cell_type": "code",
   "execution_count": 4,
   "metadata": {},
   "outputs": [
    {
     "name": "stdout",
     "output_type": "stream",
     "text": [
      "Would you like to continue with the program\n",
      "1 - Yes, I would like to know my grades\n",
      "0 - No, I would like to quit the program\n",
      "FAIL!\n",
      "Would you like to continue with the program\n",
      "1 - Yes, I would like to know my grades\n",
      "0 - No, I would like to quit the program\n"
     ]
    }
   ],
   "source": [
    "# Main program \n",
    "\n",
    "while True :\n",
    "    print(\"Would you like to continue with the program\")\n",
    "    print(\"1 - Yes, I would like to know my grades\")\n",
    "    print(\"0 - No, I would like to quit the program\")\n",
    "    try :\n",
    "        choice = int(input(\"Enter your choice: \"))\n",
    "    except :\n",
    "        print(\"Invalid input, please try again!\")\n",
    "    if (choice == 0) :\n",
    "        print(\"Exiting the program...\")\n",
    "        break\n",
    "    elif (choice == 1) :\n",
    "        try :\n",
    "            marks = float(input(\"Enter your marks: \"))\n",
    "        except :\n",
    "            print(\"Invalid input, please try again!\")\n",
    "        if (marks < 0) :\n",
    "            print(\"Invalid input, marks cannot be negative!\")\n",
    "            continue\n",
    "        ans = checkdiv(marks)\n",
    "        if (ans == -1) :\n",
    "            print(\"FAIL!\")\n",
    "        else :\n",
    "            print(f\"Grade obtained: Division - {ans}\")\n",
    "    else :\n",
    "        print(\"Invalid input, plese try again!\")\n",
    "    "
   ]
  }
 ],
 "metadata": {
  "kernelspec": {
   "display_name": "Python 3",
   "language": "python",
   "name": "python3"
  },
  "language_info": {
   "codemirror_mode": {
    "name": "ipython",
    "version": 3
   },
   "file_extension": ".py",
   "mimetype": "text/x-python",
   "name": "python",
   "nbconvert_exporter": "python",
   "pygments_lexer": "ipython3",
   "version": "3.10.6"
  },
  "orig_nbformat": 4
 },
 "nbformat": 4,
 "nbformat_minor": 2
}
