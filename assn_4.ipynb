{
 "cells": [
  {
   "cell_type": "markdown",
   "metadata": {},
   "source": [
    "4. To find the area and circumference of a circle"
   ]
  },
  {
   "cell_type": "code",
   "execution_count": 2,
   "metadata": {},
   "outputs": [],
   "source": [
    "import math"
   ]
  },
  {
   "cell_type": "code",
   "execution_count": 3,
   "metadata": {},
   "outputs": [],
   "source": [
    "def circumference(r) :\n",
    "    return 2*math.pi*r\n",
    "\n",
    "def area(r) :\n",
    "    return math.pi*r*r"
   ]
  },
  {
   "cell_type": "code",
   "execution_count": 4,
   "metadata": {},
   "outputs": [
    {
     "name": "stdout",
     "output_type": "stream",
     "text": [
      "What would you like to do?\n",
      "1 - Input radius\n",
      "0 - Exit the program\n",
      "What would you like to do?\n",
      "1 - Calculate area\n",
      "2 - Calculate circumference\n",
      "0 - Exit the program\n",
      "Area of circle = 50.26548245743669 units\n",
      "What would you like to do?\n",
      "1 - Calculate area\n",
      "2 - Calculate circumference\n",
      "0 - Exit the program\n",
      "Circumference of circle = 25.132741228718345\n",
      "What would you like to do?\n",
      "1 - Calculate area\n",
      "2 - Calculate circumference\n",
      "0 - Exit the program\n",
      "Okay, coming out...\n",
      "What would you like to do?\n",
      "1 - Input radius\n",
      "0 - Exit the program\n",
      "Exiting the program...\n"
     ]
    }
   ],
   "source": [
    "# Main program\n",
    "\n",
    "while True :\n",
    "    print(\"What would you like to do?\")\n",
    "    print(\"1 - Input radius\")\n",
    "    print(\"0 - Exit the program\")\n",
    "    try :\n",
    "        choice = int(input(\"Enter your choice: \"))\n",
    "    except :\n",
    "        print(\"Invalid input, try again!\")\n",
    "    if (choice == 1) :\n",
    "        try :\n",
    "            radius = float(input(\"Enter radius: \"))\n",
    "        except :\n",
    "            print(\"Invalid input, try again!\")\n",
    "        while True :\n",
    "            print(\"What would you like to do?\")\n",
    "            print(\"1 - Calculate area\")\n",
    "            print(\"2 - Calculate circumference\")\n",
    "            print(\"0 - Exit the program\")\n",
    "            try :\n",
    "                choice = int(input(\"Enter your choice: \"))\n",
    "            except :\n",
    "                print(\"Invalid input, try again!\")\n",
    "            if (choice == 1) :\n",
    "                print(f\"Area of circle = {area(radius)} units\")\n",
    "            elif (choice == 2) :\n",
    "                print(f\"Circumference of circle = {circumference(radius)}\")\n",
    "            elif (choice == 0) :\n",
    "                print(\"Okay, coming out...\")\n",
    "                break\n",
    "            else :\n",
    "                print(\"Invalid input, try again!\")\n",
    "    elif (choice == 0) :\n",
    "        print(\"Exiting the program...\")\n",
    "        break\n",
    "    else :\n",
    "        print(\"Invalid input, try again!\")\n"
   ]
  },
  {
   "cell_type": "code",
   "execution_count": null,
   "metadata": {},
   "outputs": [],
   "source": []
  }
 ],
 "metadata": {
  "kernelspec": {
   "display_name": "Python 3",
   "language": "python",
   "name": "python3"
  },
  "language_info": {
   "codemirror_mode": {
    "name": "ipython",
    "version": 3
   },
   "file_extension": ".py",
   "mimetype": "text/x-python",
   "name": "python",
   "nbconvert_exporter": "python",
   "pygments_lexer": "ipython3",
   "version": "3.10.6"
  },
  "orig_nbformat": 4
 },
 "nbformat": 4,
 "nbformat_minor": 2
}
