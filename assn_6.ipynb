{
 "cells": [
  {
   "cell_type": "markdown",
   "metadata": {},
   "source": [
    "6. Simple calculator for basic arithmetic operations (take operand-1, operator and operand-2 from user as input)"
   ]
  },
  {
   "cell_type": "code",
   "execution_count": 1,
   "metadata": {},
   "outputs": [],
   "source": [
    "# Add function\n",
    "def add(x, y) :\n",
    "    return x + y\n",
    "\n",
    "# Subtract function\n",
    "def subtract(x, y) :\n",
    "    return x - y\n",
    "\n",
    "# Multiplication function\n",
    "def multiply(x, y) :\n",
    "    return x*y\n",
    "\n",
    "# Divison function\n",
    "def divide(x, y) :\n",
    "    return x/y"
   ]
  },
  {
   "cell_type": "code",
   "execution_count": 2,
   "metadata": {},
   "outputs": [
    {
     "name": "stdout",
     "output_type": "stream",
     "text": [
      "Would you like to calculate?\n",
      "1 - Yes\n",
      "0 - No, quit the program\n",
      "Multiplication of numbers = 72.0\n",
      "Would you like to calculate?\n",
      "1 - Yes\n",
      "0 - No, quit the program\n",
      "Addition of numbers = 12.0\n",
      "Would you like to calculate?\n",
      "1 - Yes\n",
      "0 - No, quit the program\n",
      "Subtraction of numbers = 36.0\n",
      "Would you like to calculate?\n",
      "1 - Yes\n",
      "0 - No, quit the program\n",
      "Invalid input, please try again!\n",
      "Invalid operation performed, try again!\n",
      "Would you like to calculate?\n",
      "1 - Yes\n",
      "0 - No, quit the program\n",
      "Exiting the program...\n"
     ]
    }
   ],
   "source": [
    "# Main program\n",
    "\n",
    "while True :\n",
    "    print(\"Would you like to calculate?\")\n",
    "    print(\"1 - Yes\")\n",
    "    print(\"0 - No, quit the program\")\n",
    "    try :\n",
    "        choice = int(input(\"Enter your choice: \"))\n",
    "    except :\n",
    "        print(\"Invalid input, please try again!\")\n",
    "    if (choice == 0) :\n",
    "        print(\"Exiting the program...\")\n",
    "        break\n",
    "    elif (choice == 1) :\n",
    "        try :\n",
    "            x = float(input(\"Enter first number: \"))\n",
    "            op = input(\"Enter operation to perform: \")\n",
    "            y = float(input(\"Enter second number: \"))\n",
    "        except :\n",
    "            print(\"Invalid input, please try again!\")\n",
    "            continue\n",
    "        if (op == \"+\") :\n",
    "            print(f\"Addition of numbers = {add(x,y)}\")\n",
    "        elif (op == \"-\") :\n",
    "            print(f\"Subtraction of numbers = {subtract(x,y)}\")\n",
    "        elif (op == \"*\") :\n",
    "            print(f\"Multiplication of numbers = {multiply(x,y)}\")\n",
    "        elif (op == \"/\") :\n",
    "            print(f\"Division of numbers = {divide(x,y)}\")\n",
    "        else :\n",
    "            print(\"Invalid operation performed, try again!\")\n",
    "    else :\n",
    "        print(\"Invalid input, please try again!\")"
   ]
  },
  {
   "cell_type": "code",
   "execution_count": null,
   "metadata": {},
   "outputs": [],
   "source": []
  }
 ],
 "metadata": {
  "kernelspec": {
   "display_name": "Python 3",
   "language": "python",
   "name": "python3"
  },
  "language_info": {
   "codemirror_mode": {
    "name": "ipython",
    "version": 3
   },
   "file_extension": ".py",
   "mimetype": "text/x-python",
   "name": "python",
   "nbconvert_exporter": "python",
   "pygments_lexer": "ipython3",
   "version": "3.10.6"
  },
  "orig_nbformat": 4
 },
 "nbformat": 4,
 "nbformat_minor": 2
}
